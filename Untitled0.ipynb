{
  "nbformat": 4,
  "nbformat_minor": 0,
  "metadata": {
    "colab": {
      "provenance": [],
      "authorship_tag": "ABX9TyP40jqD89fRcUffP1dlv2vv",
      "include_colab_link": true
    },
    "kernelspec": {
      "name": "python3",
      "display_name": "Python 3"
    },
    "language_info": {
      "name": "python"
    }
  },
  "cells": [
    {
      "cell_type": "markdown",
      "metadata": {
        "id": "view-in-github",
        "colab_type": "text"
      },
      "source": [
        "<a href=\"https://colab.research.google.com/github/Gerard4168/Series_collab/blob/main/Untitled0.ipynb\" target=\"_parent\"><img src=\"https://colab.research.google.com/assets/colab-badge.svg\" alt=\"Open In Colab\"/></a>"
      ]
    },
    {
      "cell_type": "markdown",
      "source": [
        "SERIES USANDO FOR"
      ],
      "metadata": {
        "id": "JJszrKi1GFUX"
      }
    },
    {
      "cell_type": "code",
      "execution_count": null,
      "metadata": {
        "id": "k5R-5MPOEjnQ",
        "colab": {
          "base_uri": "https://localhost:8080/"
        },
        "outputId": "93264a91-d1c6-4ce3-fb48-932c6a7817b3"
      },
      "outputs": [
        {
          "output_type": "stream",
          "name": "stdout",
          "text": [
            "===============================================\n",
            "================== Serie 1 ====================\n",
            "===============================================\n",
            "Serie: 1, 2, 3, 4, 5, 6, 7, 8, 9, 10, }\n"
          ]
        }
      ],
      "source": [
        "# Series 1: 1, 2, 3, 4, 5, 6, 7, 8, 9, 10\n",
        "\n",
        "print('===============================================')\n",
        "print('================== Serie 1 ====================')\n",
        "print('===============================================')\n",
        "\n",
        "s = 'Serie: {'\n",
        "for i in range(1,11):\n",
        " s = s + str(i) + ', '\n",
        "s = s + \"}\"\n",
        "print(s)\n",
        "\n",
        "\n"
      ]
    },
    {
      "cell_type": "code",
      "source": [
        "# Serie 2: 1, 4, 9, 16, 25, 36, 49, 64, 81...\n",
        "\n",
        "print('===============================================')\n",
        "print('================== Serie 2 ====================')\n",
        "print('===============================================')\n",
        "\n",
        "s = 'Serie: {'\n",
        "for i in range(1,11):\n",
        "  if i !=10:\n",
        "    s = s + str(i**2) + ', '\n",
        "  else:\n",
        "   s = s + str(i**2) \n",
        "s = s + \"}\"\n",
        "print(s)"
      ],
      "metadata": {
        "colab": {
          "base_uri": "https://localhost:8080/"
        },
        "id": "CYwW-23FI5ix",
        "outputId": "334a00fa-984e-4151-cef0-b960e2910611"
      },
      "execution_count": null,
      "outputs": [
        {
          "output_type": "stream",
          "name": "stdout",
          "text": [
            "===============================================\n",
            "================== Serie 1 ====================\n",
            "===============================================\n",
            "Serie: {1, 4, 9, 16, 25, 36, 49, 64, 81, 100, }\n"
          ]
        }
      ]
    },
    {
      "cell_type": "code",
      "source": [
        "# Serie 3: 2, 4, 8, 16, 32, 64\n",
        "\n",
        "print('===============================================')\n",
        "print('================== Serie 3 ====================')\n",
        "print('===============================================')\n",
        "\n",
        "s = 'Serie: {'\n",
        "for i in range(1,11):\n",
        "  if i !=10:\n",
        "    s = s + str(2**i) + ', '\n",
        "  else:\n",
        "   s = s + str(2**i) \n",
        "s = s + \"}\"\n",
        "print(s)"
      ],
      "metadata": {
        "colab": {
          "base_uri": "https://localhost:8080/"
        },
        "id": "k6YmyNJcOFKx",
        "outputId": "6d9a9185-9a92-4c4d-f544-cbe3cc5fff82"
      },
      "execution_count": null,
      "outputs": [
        {
          "output_type": "stream",
          "name": "stdout",
          "text": [
            "===============================================\n",
            "================== Serie 3 ====================\n",
            "===============================================\n",
            "Serie: {2, 4, 8, 16, 32, 64, 128, 256, 512, 1024}\n"
          ]
        }
      ]
    },
    {
      "cell_type": "code",
      "source": [
        "# Serie 4: 2, 6, 12, 20, 30, 42, 56\n",
        "\n",
        "print('===============================================')\n",
        "print('================== Serie 4 ====================')\n",
        "print('===============================================')\n",
        "\n",
        "s = 'Serie: {'\n",
        "for i in range(1,11):\n",
        "  if i !=10:\n",
        "    s = s + str(i**2+i) + ', '\n",
        "  else:\n",
        "   s = s + str(i**2+i) \n",
        "s = s + \"}\"\n",
        "print(s)"
      ],
      "metadata": {
        "colab": {
          "base_uri": "https://localhost:8080/"
        },
        "id": "S673gAkpPmzk",
        "outputId": "d16d4ab8-39d4-4244-b8f0-d408c45ec37e"
      },
      "execution_count": null,
      "outputs": [
        {
          "output_type": "stream",
          "name": "stdout",
          "text": [
            "===============================================\n",
            "================== Serie 4 ====================\n",
            "===============================================\n",
            "Serie: {2, 6, 12, 20, 30, 42, 56, 72, 90, 110}\n"
          ]
        }
      ]
    }
  ]
}